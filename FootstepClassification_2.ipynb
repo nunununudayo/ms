{
  "cells": [
    {
      "cell_type": "markdown",
      "metadata": {
        "id": "view-in-github",
        "colab_type": "text"
      },
      "source": [
        "<a href=\"https://colab.research.google.com/github/nunununudayo/ms/blob/main/FootstepClassification_2.ipynb\" target=\"_parent\"><img src=\"https://colab.research.google.com/assets/colab-badge.svg\" alt=\"Open In Colab\"/></a>"
      ]
    },
    {
      "cell_type": "markdown",
      "metadata": {
        "id": "pCDfaHAyHTQL"
      },
      "source": [
        "# 1. Import and Install Dependencies"
      ]
    },
    {
      "cell_type": "markdown",
      "metadata": {
        "id": "BrXShlnFHTQN"
      },
      "source": [
        "## 1.1 Install Dependencies"
      ]
    },
    {
      "cell_type": "code",
      "execution_count": null,
      "metadata": {
        "colab": {
          "base_uri": "https://localhost:8080/"
        },
        "id": "af0hMjVJIpzT",
        "outputId": "16cf88a0-f657-4933-feb9-0fdfd459b7f0"
      },
      "outputs": [
        {
          "output_type": "stream",
          "name": "stdout",
          "text": [
            "Drive already mounted at /content/drive; to attempt to forcibly remount, call drive.mount(\"/content/drive\", force_remount=True).\n"
          ]
        }
      ],
      "source": [
        "from google.colab import drive\n",
        "drive.mount('/content/drive')"
      ]
    },
    {
      "cell_type": "code",
      "execution_count": null,
      "metadata": {
        "colab": {
          "base_uri": "https://localhost:8080/"
        },
        "id": "IVeth5LuHTQN",
        "outputId": "caf219d9-8f61-48f1-944e-3996c50373c9"
      },
      "outputs": [
        {
          "output_type": "stream",
          "name": "stdout",
          "text": [
            "Looking in indexes: https://pypi.org/simple, https://us-python.pkg.dev/colab-wheels/public/simple/\n",
            "Requirement already satisfied: tensorflow-io in /usr/local/lib/python3.8/dist-packages (0.30.0)\n",
            "Requirement already satisfied: tensorflow-io-gcs-filesystem==0.30.0 in /usr/local/lib/python3.8/dist-packages (from tensorflow-io) (0.30.0)\n"
          ]
        }
      ],
      "source": [
        "# !pip install tensorflow tensorflow-gpu  matplotlib\n",
        "!pip install tensorflow-io"
      ]
    },
    {
      "cell_type": "markdown",
      "metadata": {
        "id": "Hh7boHisHTQO"
      },
      "source": [
        "## 1.2 Load Dependencies"
      ]
    },
    {
      "cell_type": "code",
      "execution_count": null,
      "metadata": {
        "id": "-ron_yKxHTQO"
      },
      "outputs": [],
      "source": [
        "import os\n",
        "from matplotlib import pyplot as plt\n",
        "import tensorflow as tf \n",
        "import tensorflow_io as tfio"
      ]
    },
    {
      "cell_type": "markdown",
      "metadata": {
        "id": "TG3dGUSIHTQO"
      },
      "source": [
        "# 2. Build Data Loading Function"
      ]
    },
    {
      "cell_type": "markdown",
      "metadata": {
        "id": "1s-VqzcUHTQP"
      },
      "source": [
        "## 2.2 Build Dataloading Function"
      ]
    },
    {
      "cell_type": "code",
      "execution_count": null,
      "metadata": {
        "id": "wHkcyGI6HTQP"
      },
      "outputs": [],
      "source": [
        "def load_wav_16k_mono(filename):\n",
        "    # Load encoded wav file\n",
        "    file_contents = tf.io.read_file(filename)\n",
        "    # Decode wav (tensors by channels) \n",
        "    wav, sample_rate = tf.audio.decode_wav(file_contents, desired_channels=1)\n",
        "    # Removes trailing axis\n",
        "    wav = tf.squeeze(wav, axis=-1)\n",
        "    sample_rate = tf.cast(sample_rate, dtype=tf.int64)\n",
        "    # Goes from 44100Hz to 16000hz - amplitude of the audio signal\n",
        "    wav = tfio.audio.resample(wav, rate_in=sample_rate, rate_out=16000)\n",
        "    return wav"
      ]
    },
    {
      "cell_type": "markdown",
      "metadata": {
        "id": "nN8f4DRwHTQQ"
      },
      "source": [
        "# 3. Create Tensorflow Dataset"
      ]
    },
    {
      "cell_type": "markdown",
      "metadata": {
        "id": "YV-GJGFYHTQQ"
      },
      "source": [
        "## 3.1 Define Paths to Positive and Negative Data"
      ]
    },
    {
      "cell_type": "code",
      "execution_count": null,
      "metadata": {
        "id": "lz6xRcyRkPQl"
      },
      "outputs": [],
      "source": [
        "def return_slices(FILEPATH):\n",
        "    wav = load_mp3_16k_mono(FILEPATH)\n",
        "    audio_slices = tf.keras.utils.timeseries_dataset_from_array(wav, wav, sequence_length=11200, sequence_stride=11200, batch_size=1)\n",
        "    return audio_slices"
      ]
    },
    {
      "cell_type": "code",
      "source": [
        "#森田\n",
        "\n",
        "person = 40 # AFPID-II_P2-Rawの場合\n",
        "\n",
        "SS = [[]] * person\n",
        "\n",
        "for i in range(person + 1):\n",
        "  if i < 10:\n",
        "    # AFPID-II_P2-Rawの場合\n",
        "    SS[i-1] = os.path.join('/content/drive/MyDrive/audio_processing/intern/AFPID-II/AFPID-II_P2-Raw', 's0' + str(i))\n",
        "  else:\n",
        "    # AFPID-II_P2-Rawの場合\n",
        "    SS[i-1] = os.path.join('/content/drive/MyDrive/audio_processing/intern/AFPID-II/AFPID-II_P2-Raw', 's' + str(i))\n"
      ],
      "metadata": {
        "colab": {
          "base_uri": "https://localhost:8080/"
        },
        "id": "n58dxqJvlsTC",
        "outputId": "2d830cf3-6cba-49c2-faac-a2ae92738b68"
      },
      "execution_count": null,
      "outputs": [
        {
          "output_type": "stream",
          "name": "stdout",
          "text": [
            "/content/drive/MyDrive/audio_processing/intern/AFPID-II/AFPID-II_P2-Raw/s02\n"
          ]
        }
      ]
    },
    {
      "cell_type": "markdown",
      "metadata": {
        "id": "y5HCz6GWHTQQ"
      },
      "source": [
        "## 3.2 Create Tensorflow Datasets"
      ]
    },
    {
      "cell_type": "code",
      "execution_count": null,
      "metadata": {
        "id": "ks9RtIahW6J0"
      },
      "outputs": [],
      "source": [
        "#森田2\n",
        "import os\n",
        "\n",
        "ss = [[]] * person\n",
        "\n",
        "for n in range(person):\n",
        "\n",
        "  for i in os.listdir(SS[n]):\n",
        "    # CALCULATE NUM\n",
        "    #print(SS[n] + '/' + i)\n",
        "    wav = load_wav_16k_mono(SS[n] + '/' + i)\n",
        "    wav = wav[:int(len(wav) * 0.7)]\n",
        "\n",
        "    # !!!!!!!!!!!!!!!!!!!!!!!!!!短縮版！！！！！！！！！！！！！！\n",
        "    NUM = int(len(wav) / (0.75 * 16000)/10)\n",
        "    #print(NUM)\n",
        "\n",
        "    for j in range(NUM):\n",
        "      ss[n].append(os.path.join(SS[n],i+str(j)))\n",
        "      \n",
        "  #print(ss[n])\n",
        "  ss[n] = tf.data.Dataset.from_tensor_slices(ss[n])\n"
      ]
    },
    {
      "cell_type": "markdown",
      "metadata": {
        "id": "C_Eo1AbMHTQR"
      },
      "source": [
        "## 3.3 Add labels and Combine Positive and Negative Samples"
      ]
    },
    {
      "cell_type": "code",
      "execution_count": null,
      "metadata": {
        "colab": {
          "base_uri": "https://localhost:8080/"
        },
        "id": "z8pG6n8BHTQR",
        "outputId": "d923177c-54d5-4c4a-8236-42563983acff"
      },
      "outputs": [
        {
          "output_type": "stream",
          "name": "stdout",
          "text": [
            "65827\n",
            "(b'/content/drive/MyDrive/audio_processing/intern/AFPID-II/AFPID-II_P2-Raw/s01/s01_2_footstep_audio.wav0', array([1., 0., 0., 0., 0., 0., 0., 0., 0., 0., 0., 0., 0., 0., 0., 0., 0.,\n",
            "       0., 0., 0., 0., 0., 0., 0., 0., 0., 0., 0., 0., 0., 0., 0., 0., 0.,\n",
            "       0., 0., 0., 0., 0., 0.], dtype=float32))\n"
          ]
        }
      ],
      "source": [
        "#森田2\n",
        "# data = tf.data.Dataset()\n",
        "sis = []\n",
        "for i in range(person):\n",
        "\n",
        "  indices = i\n",
        "  depth = person    \n",
        "\n",
        "  sis.append( tf.data.Dataset.zip((ss[i], tf.data.Dataset.from_tensor_slices(([tf.one_hot(indices, depth)]*len(ss[i]))))) )\n",
        "\n",
        "for i in range(len(sis)-1):\n",
        "  sis[0] = sis[0].concatenate(sis[i+1])\n",
        "data = sis[0]\n",
        "\n",
        "print(len(data))\n",
        "\n",
        "print(data.as_numpy_iterator().next())"
      ]
    },
    {
      "cell_type": "markdown",
      "metadata": {
        "id": "iQ8BH2UqHTQR"
      },
      "source": [
        "# 4. Determine Average Length of a Capuchin Call"
      ]
    },
    {
      "cell_type": "markdown",
      "metadata": {
        "id": "SCfVrKaCHTQS"
      },
      "source": [
        "# 5. Build Preprocessing Function to Convert to Spectrogram"
      ]
    },
    {
      "cell_type": "markdown",
      "metadata": {
        "id": "HQMNJIpQHTQS"
      },
      "source": [
        "## 5.1 Build Preprocessing Function"
      ]
    },
    {
      "cell_type": "code",
      "execution_count": null,
      "metadata": {
        "id": "ctO2uPLvHTQS"
      },
      "outputs": [],
      "source": [
        "# import numpy as np\n",
        "# def my_numpy_func(x):\n",
        "#   # x will be a numpy array with the contents of the input to the\n",
        "#   # tf.function\n",
        "#   return np.sinh(x)\n",
        "# @tf.function(input_signature=[tf.TensorSpec(None, tf.float32)])\n",
        "# def tf_function(input):\n",
        "#   y = tf.numpy_function(my_numpy_func, [input], tf.float32)\n",
        "#   return y * y\n",
        "# tf_function(tf.constant(1.))\n",
        "\n",
        "\n",
        "def preprocess(file_path, label):\n",
        "    num = \"\"\n",
        "    for i in reversed(file_path):\n",
        "      if 48<=i<=57:\n",
        "        num = chr(i) + num\n",
        "      else:\n",
        "        break\n",
        "    wav = load_wav_16k_mono(file_path[:-len(num)])\n",
        "\n",
        "    num = int(num)\n",
        "    print(num)\n",
        "      \n",
        "    num = int(file_path[-1])\n",
        "\n",
        "    # wav = wav[:48000]\n",
        "    # zero_padding = tf.zeros([48000] - tf.shape(wav), dtype=tf.float32)\n",
        "    # wav = tf.concat([zero_padding, wav],0)\n",
        "\n",
        "    #### \n",
        "\n",
        "    wav_clip = wav[12000*num:12000+12000*num]\n",
        "    spectrogram = tf.signal.stft(wav_clip, frame_length=320, frame_step=32)\n",
        "    spectrogram = tf.abs(spectrogram)\n",
        "    spectrogram = tf.expand_dims(spectrogram, axis=2)\n",
        "    return spectrogram, label\n",
        "\n",
        "    # # 　分けないと問題ないですが、\n",
        "    # spectrogram = tf.signal.stft(wav, frame_length=320, frame_step=32)\n",
        "    # spectrogram = tf.abs(spectrogram)\n",
        "    # spectrogram = tf.expand_dims(spectrogram, axis=2)\n",
        "    # return spectrogram, label"
      ]
    },
    {
      "cell_type": "markdown",
      "metadata": {
        "id": "SntPO4EEHTQS"
      },
      "source": [
        "# 6. Create Training and Testing Partitions"
      ]
    },
    {
      "cell_type": "markdown",
      "metadata": {
        "id": "Mv1rwFNwHTQS"
      },
      "source": [
        "## 6.1 Create a Tensorflow Data Pipeline"
      ]
    },
    {
      "cell_type": "code",
      "execution_count": null,
      "metadata": {
        "colab": {
          "base_uri": "https://localhost:8080/"
        },
        "id": "xjntJZm3HTQT",
        "outputId": "0700e982-53a0-4b5b-d501-19ec7aba048d"
      },
      "outputs": [
        {
          "output_type": "stream",
          "name": "stdout",
          "text": [
            "0\n",
            "1\n",
            "2\n",
            "3\n",
            "4\n",
            "5\n",
            "6\n",
            "7\n",
            "8\n",
            "9\n",
            "10\n",
            "11\n",
            "12\n",
            "13\n",
            "14\n",
            "15\n",
            "16\n",
            "17\n",
            "18\n",
            "19\n",
            "20\n",
            "21\n",
            "22\n",
            "23\n",
            "24\n",
            "25\n",
            "26\n",
            "27\n",
            "28\n",
            "29\n",
            "30\n",
            "31\n",
            "32\n",
            "33\n",
            "34\n",
            "35\n",
            "36\n",
            "37\n",
            "38\n",
            "39\n",
            "40\n",
            "41\n",
            "42\n",
            "43\n",
            "44\n",
            "45\n",
            "46\n",
            "47\n",
            "48\n",
            "49\n",
            "50\n",
            "51\n",
            "52\n",
            "53\n",
            "54\n",
            "55\n",
            "56\n",
            "57\n",
            "58\n",
            "59\n",
            "60\n",
            "61\n",
            "62\n",
            "63\n",
            "64\n",
            "65\n",
            "66\n",
            "67\n",
            "68\n",
            "69\n",
            "70\n",
            "71\n",
            "72\n",
            "73\n",
            "74\n",
            "75\n",
            "76\n",
            "77\n",
            "78\n",
            "79\n",
            "80\n",
            "81\n",
            "82\n",
            "83\n",
            "84\n",
            "85\n",
            "86\n",
            "87\n",
            "88\n",
            "89\n",
            "90\n",
            "91\n",
            "92\n",
            "93\n",
            "94\n",
            "95\n",
            "96\n",
            "97\n",
            "98\n",
            "99\n",
            "100\n",
            "101\n",
            "102\n",
            "103\n",
            "104\n",
            "105\n",
            "106\n",
            "107\n",
            "108\n",
            "109\n",
            "110\n",
            "111\n",
            "112\n",
            "113\n",
            "114\n",
            "115\n",
            "116\n",
            "117\n",
            "118\n",
            "119\n",
            "120\n",
            "121\n",
            "122\n",
            "123\n",
            "124\n",
            "125\n",
            "126\n",
            "127\n",
            "128\n",
            "129\n",
            "130\n",
            "131\n",
            "132\n",
            "133\n",
            "134\n",
            "135\n",
            "136\n",
            "137\n",
            "138\n",
            "139\n",
            "140\n",
            "141\n",
            "142\n",
            "143\n",
            "144\n",
            "145\n",
            "146\n",
            "147\n",
            "148\n",
            "149\n",
            "150\n",
            "151\n",
            "152\n",
            "153\n",
            "154\n",
            "155\n",
            "156\n",
            "157\n",
            "158\n",
            "159\n",
            "160\n",
            "161\n",
            "162\n",
            "163\n",
            "164\n",
            "165\n",
            "166\n",
            "167\n",
            "168\n",
            "169\n",
            "170\n",
            "171\n",
            "172\n",
            "173\n",
            "174\n",
            "175\n",
            "176\n",
            "177\n",
            "0\n",
            "1\n",
            "2\n",
            "3\n",
            "4\n",
            "5\n",
            "6\n",
            "7\n",
            "8\n",
            "9\n",
            "10\n",
            "11\n",
            "12\n",
            "13\n",
            "14\n",
            "15\n",
            "16\n",
            "17\n",
            "18\n",
            "19\n",
            "20\n",
            "21\n",
            "22\n",
            "23\n",
            "24\n",
            "25\n",
            "26\n",
            "27\n",
            "28\n",
            "29\n",
            "30\n",
            "31\n",
            "32\n",
            "33\n",
            "34\n",
            "35\n",
            "36\n",
            "37\n",
            "38\n",
            "39\n",
            "40\n",
            "41\n",
            "42\n",
            "43\n",
            "44\n",
            "45\n",
            "46\n",
            "47\n",
            "48\n",
            "49\n",
            "50\n",
            "51\n",
            "52\n",
            "53\n",
            "54\n",
            "55\n",
            "56\n",
            "57\n",
            "58\n",
            "59\n",
            "60\n",
            "61\n",
            "62\n",
            "63\n",
            "64\n",
            "65\n",
            "66\n",
            "67\n",
            "68\n",
            "69\n",
            "70\n",
            "71\n",
            "72\n",
            "73\n",
            "74\n",
            "75\n",
            "76\n",
            "77\n",
            "78\n",
            "79\n",
            "80\n",
            "81\n",
            "82\n",
            "83\n",
            "84\n",
            "85\n",
            "86\n",
            "87\n",
            "88\n",
            "89\n",
            "90\n",
            "91\n",
            "92\n",
            "93\n",
            "94\n",
            "95\n",
            "96\n",
            "97\n",
            "98\n",
            "99\n",
            "100\n",
            "101\n",
            "102\n",
            "103\n",
            "104\n",
            "105\n",
            "106\n",
            "107\n",
            "108\n",
            "109\n",
            "110\n",
            "111\n",
            "112\n",
            "113\n",
            "114\n",
            "115\n",
            "116\n",
            "117\n",
            "118\n",
            "119\n",
            "120\n",
            "121\n",
            "122\n",
            "123\n",
            "124\n",
            "125\n",
            "126\n",
            "127\n",
            "128\n",
            "129\n",
            "130\n",
            "131\n",
            "132\n",
            "133\n",
            "134\n",
            "135\n",
            "136\n",
            "137\n",
            "138\n",
            "139\n",
            "140\n",
            "141\n",
            "142\n",
            "143\n",
            "144\n",
            "145\n",
            "146\n",
            "147\n",
            "148\n",
            "149\n",
            "150\n",
            "151\n",
            "152\n",
            "153\n",
            "154\n",
            "155\n",
            "156\n",
            "157\n",
            "158\n",
            "159\n",
            "160\n",
            "161\n",
            "162\n",
            "163\n",
            "164\n",
            "165\n",
            "166\n",
            "167\n",
            "168\n",
            "169\n",
            "170\n",
            "171\n",
            "172\n",
            "173\n",
            "174\n",
            "175\n",
            "176\n",
            "0\n",
            "1\n",
            "2\n",
            "3\n",
            "4\n",
            "5\n",
            "6\n",
            "7\n",
            "8\n",
            "9\n",
            "10\n",
            "11\n",
            "12\n",
            "13\n",
            "14\n",
            "15\n",
            "16\n",
            "17\n",
            "18\n",
            "19\n",
            "20\n",
            "21\n",
            "22\n",
            "23\n",
            "24\n",
            "25\n",
            "26\n",
            "27\n",
            "28\n",
            "29\n",
            "30\n",
            "31\n",
            "32\n",
            "33\n",
            "34\n",
            "35\n",
            "36\n",
            "37\n",
            "38\n",
            "39\n",
            "40\n",
            "41\n",
            "42\n",
            "43\n",
            "44\n",
            "45\n",
            "46\n",
            "47\n",
            "48\n",
            "49\n",
            "50\n",
            "51\n",
            "52\n",
            "53\n",
            "54\n",
            "55\n",
            "56\n",
            "57\n",
            "58\n",
            "59\n",
            "60\n",
            "61\n",
            "62\n",
            "63\n",
            "64\n",
            "65\n",
            "66\n",
            "67\n",
            "68\n",
            "69\n",
            "70\n",
            "71\n",
            "72\n",
            "73\n",
            "74\n",
            "75\n",
            "76\n",
            "77\n",
            "78\n",
            "79\n",
            "80\n",
            "81\n",
            "82\n",
            "83\n",
            "84\n",
            "85\n",
            "86\n",
            "87\n",
            "88\n",
            "89\n",
            "90\n",
            "91\n",
            "92\n",
            "93\n",
            "94\n",
            "95\n",
            "96\n",
            "97\n",
            "98\n",
            "99\n",
            "100\n",
            "101\n",
            "102\n",
            "103\n",
            "104\n",
            "105\n",
            "106\n",
            "107\n",
            "108\n",
            "109\n",
            "110\n",
            "111\n",
            "112\n",
            "113\n",
            "114\n",
            "115\n",
            "116\n",
            "117\n",
            "118\n",
            "119\n",
            "120\n",
            "121\n",
            "122\n",
            "123\n",
            "124\n",
            "125\n",
            "126\n",
            "127\n",
            "128\n",
            "129\n",
            "130\n",
            "131\n",
            "132\n",
            "133\n",
            "134\n",
            "135\n",
            "136\n",
            "137\n",
            "138\n",
            "139\n",
            "140\n",
            "141\n",
            "142\n",
            "143\n",
            "144\n",
            "145\n",
            "146\n",
            "147\n",
            "148\n",
            "149\n",
            "150\n",
            "151\n",
            "152\n",
            "153\n",
            "154\n",
            "155\n",
            "156\n",
            "157\n",
            "158\n",
            "159\n",
            "160\n",
            "161\n",
            "162\n",
            "163\n",
            "164\n",
            "165\n",
            "166\n",
            "167\n",
            "168\n",
            "169\n",
            "170\n",
            "171\n",
            "172\n",
            "173\n",
            "174\n",
            "175\n",
            "176\n",
            "177\n",
            "0\n",
            "1\n",
            "2\n",
            "3\n",
            "4\n",
            "5\n",
            "6\n",
            "7\n",
            "8\n",
            "9\n",
            "10\n",
            "11\n",
            "12\n",
            "13\n",
            "14\n",
            "15\n",
            "16\n",
            "17\n",
            "18\n",
            "19\n",
            "20\n",
            "21\n",
            "22\n",
            "23\n",
            "24\n",
            "25\n",
            "26\n",
            "27\n",
            "28\n",
            "29\n",
            "30\n",
            "31\n",
            "32\n",
            "33\n",
            "34\n",
            "35\n",
            "36\n",
            "37\n",
            "38\n",
            "39\n",
            "40\n",
            "41\n",
            "42\n",
            "43\n",
            "44\n",
            "45\n",
            "46\n",
            "47\n",
            "48\n",
            "49\n",
            "50\n",
            "51\n",
            "52\n",
            "53\n",
            "54\n",
            "55\n",
            "56\n",
            "57\n",
            "58\n",
            "59\n",
            "60\n",
            "61\n",
            "62\n",
            "63\n",
            "64\n",
            "65\n",
            "66\n",
            "67\n",
            "68\n",
            "69\n",
            "70\n",
            "71\n",
            "72\n",
            "73\n",
            "74\n",
            "75\n",
            "76\n",
            "77\n",
            "78\n",
            "79\n",
            "80\n",
            "81\n",
            "82\n",
            "83\n",
            "84\n",
            "85\n",
            "86\n",
            "87\n",
            "88\n",
            "89\n",
            "90\n",
            "91\n",
            "92\n",
            "93\n",
            "94\n",
            "95\n",
            "96\n",
            "97\n",
            "98\n",
            "99\n",
            "100\n",
            "101\n",
            "102\n",
            "103\n",
            "104\n",
            "105\n",
            "106\n",
            "107\n",
            "108\n",
            "109\n",
            "110\n",
            "111\n",
            "112\n",
            "113\n",
            "114\n",
            "115\n",
            "116\n",
            "117\n",
            "118\n",
            "119\n",
            "120\n",
            "121\n",
            "122\n",
            "123\n",
            "124\n",
            "125\n",
            "126\n",
            "127\n",
            "128\n",
            "129\n",
            "130\n",
            "131\n",
            "132\n",
            "133\n",
            "134\n",
            "135\n",
            "136\n",
            "137\n",
            "138\n",
            "139\n",
            "140\n",
            "141\n",
            "142\n",
            "143\n",
            "144\n",
            "145\n",
            "146\n",
            "147\n",
            "148\n",
            "149\n",
            "150\n",
            "151\n",
            "152\n",
            "153\n",
            "154\n",
            "155\n",
            "156\n",
            "157\n",
            "158\n",
            "159\n",
            "160\n",
            "161\n",
            "162\n",
            "163\n",
            "164\n",
            "165\n",
            "166\n",
            "167\n",
            "168\n",
            "169\n",
            "170\n",
            "171\n",
            "172\n",
            "173\n",
            "174\n",
            "175\n",
            "176\n",
            "177\n",
            "0\n",
            "1\n",
            "2\n",
            "3\n",
            "4\n",
            "5\n",
            "6\n",
            "7\n",
            "8\n",
            "9\n",
            "10\n",
            "11\n",
            "12\n",
            "13\n",
            "14\n",
            "15\n",
            "16\n",
            "17\n",
            "18\n",
            "19\n",
            "20\n",
            "21\n",
            "22\n",
            "23\n",
            "24\n",
            "25\n",
            "26\n",
            "27\n",
            "28\n",
            "29\n",
            "30\n",
            "31\n",
            "32\n",
            "33\n",
            "34\n",
            "35\n",
            "36\n",
            "37\n",
            "38\n",
            "39\n",
            "40\n",
            "41\n",
            "42\n",
            "43\n",
            "44\n",
            "45\n",
            "46\n",
            "47\n",
            "48\n",
            "49\n",
            "50\n",
            "51\n",
            "52\n",
            "53\n",
            "54\n",
            "55\n",
            "56\n",
            "57\n",
            "58\n",
            "59\n",
            "60\n",
            "61\n",
            "62\n",
            "63\n",
            "64\n",
            "65\n",
            "66\n",
            "67\n",
            "68\n",
            "69\n",
            "70\n",
            "71\n",
            "72\n",
            "73\n",
            "74\n",
            "75\n",
            "76\n",
            "77\n",
            "78\n",
            "79\n",
            "80\n",
            "81\n",
            "82\n",
            "83\n",
            "84\n",
            "85\n",
            "86\n",
            "87\n",
            "88\n",
            "89\n",
            "90\n",
            "91\n",
            "92\n",
            "93\n",
            "94\n",
            "95\n",
            "96\n",
            "97\n",
            "98\n",
            "99\n",
            "100\n",
            "101\n",
            "102\n",
            "103\n",
            "104\n",
            "105\n",
            "106\n",
            "107\n",
            "108\n",
            "109\n",
            "110\n",
            "111\n",
            "112\n",
            "113\n",
            "114\n",
            "115\n",
            "116\n",
            "117\n",
            "118\n",
            "119\n",
            "120\n",
            "121\n",
            "122\n",
            "123\n",
            "124\n",
            "125\n",
            "126\n",
            "127\n",
            "128\n",
            "129\n",
            "130\n",
            "131\n",
            "132\n",
            "133\n",
            "134\n",
            "135\n",
            "136\n",
            "137\n",
            "138\n",
            "139\n",
            "140\n",
            "141\n",
            "142\n",
            "143\n",
            "144\n",
            "145\n",
            "146\n",
            "147\n",
            "148\n",
            "149\n",
            "150\n",
            "151\n",
            "152\n",
            "153\n",
            "154\n",
            "155\n",
            "156\n",
            "157\n",
            "158\n",
            "159\n",
            "160\n",
            "161\n",
            "162\n",
            "163\n",
            "164\n",
            "165\n",
            "166\n",
            "167\n",
            "168\n",
            "169\n",
            "170\n",
            "171\n",
            "172\n",
            "173\n",
            "174\n",
            "175\n",
            "176\n",
            "177\n",
            "178\n",
            "0\n",
            "1\n",
            "2\n",
            "3\n",
            "4\n",
            "5\n",
            "6\n",
            "7\n",
            "8\n",
            "9\n",
            "10\n",
            "11\n",
            "12\n",
            "13\n",
            "14\n",
            "15\n",
            "16\n",
            "17\n",
            "18\n",
            "19\n",
            "20\n",
            "21\n",
            "22\n",
            "23\n",
            "24\n",
            "25\n",
            "26\n",
            "27\n",
            "28\n",
            "29\n",
            "30\n",
            "31\n",
            "32\n",
            "33\n",
            "34\n",
            "35\n",
            "36\n",
            "37\n",
            "38\n",
            "39\n",
            "40\n",
            "41\n",
            "42\n",
            "43\n",
            "44\n",
            "45\n",
            "46\n",
            "47\n",
            "48\n",
            "49\n",
            "50\n",
            "51\n",
            "52\n",
            "53\n",
            "54\n",
            "55\n",
            "56\n",
            "57\n",
            "58\n",
            "59\n",
            "60\n",
            "61\n",
            "62\n",
            "63\n",
            "64\n",
            "65\n",
            "66\n",
            "67\n",
            "68\n",
            "69\n",
            "70\n",
            "71\n",
            "72\n",
            "73\n",
            "74\n",
            "75\n",
            "76\n",
            "77\n",
            "78\n",
            "79\n",
            "80\n",
            "81\n",
            "82\n",
            "83\n",
            "84\n",
            "85\n",
            "86\n",
            "87\n",
            "88\n",
            "89\n",
            "90\n",
            "91\n",
            "92\n",
            "93\n",
            "94\n",
            "95\n",
            "96\n",
            "97\n",
            "98\n",
            "99\n",
            "100\n",
            "101\n",
            "102\n",
            "103\n",
            "104\n",
            "105\n",
            "106\n",
            "107\n",
            "108\n",
            "109\n",
            "110\n",
            "111\n",
            "112\n",
            "113\n",
            "114\n",
            "115\n",
            "116\n",
            "117\n",
            "118\n",
            "119\n",
            "120\n",
            "121\n",
            "122\n",
            "123\n",
            "124\n",
            "125\n",
            "126\n",
            "127\n",
            "128\n",
            "129\n",
            "130\n",
            "131\n",
            "132\n",
            "133\n",
            "134\n",
            "135\n",
            "136\n",
            "137\n",
            "138\n",
            "139\n",
            "140\n",
            "141\n",
            "142\n",
            "143\n",
            "144\n",
            "145\n",
            "146\n",
            "147\n",
            "148\n",
            "149\n",
            "150\n",
            "151\n",
            "152\n",
            "153\n",
            "154\n",
            "155\n",
            "156\n",
            "157\n",
            "158\n",
            "159\n",
            "160\n",
            "161\n",
            "162\n",
            "163\n",
            "164\n",
            "165\n",
            "166\n",
            "167\n",
            "168\n",
            "169\n",
            "170\n",
            "171\n",
            "172\n",
            "173\n",
            "174\n",
            "175\n",
            "176\n",
            "177\n",
            "178\n",
            "0\n",
            "1\n",
            "2\n",
            "3\n",
            "4\n",
            "5\n",
            "6\n",
            "7\n",
            "8\n",
            "9\n",
            "10\n",
            "11\n",
            "12\n",
            "13\n",
            "14\n",
            "15\n",
            "16\n",
            "17\n",
            "18\n",
            "19\n",
            "20\n",
            "21\n",
            "22\n",
            "23\n",
            "24\n",
            "25\n",
            "26\n",
            "27\n",
            "28\n",
            "29\n",
            "30\n",
            "31\n",
            "32\n",
            "33\n",
            "34\n",
            "35\n",
            "36\n",
            "37\n",
            "38\n",
            "39\n",
            "40\n",
            "41\n",
            "42\n",
            "43\n",
            "44\n",
            "45\n",
            "46\n",
            "47\n",
            "48\n",
            "49\n",
            "50\n",
            "51\n",
            "52\n",
            "53\n",
            "54\n",
            "55\n",
            "56\n",
            "57\n",
            "58\n",
            "59\n",
            "60\n",
            "61\n",
            "62\n",
            "63\n",
            "64\n",
            "65\n",
            "66\n",
            "67\n",
            "68\n",
            "69\n",
            "70\n",
            "71\n",
            "72\n",
            "73\n",
            "74\n",
            "75\n",
            "76\n",
            "77\n",
            "78\n",
            "79\n",
            "80\n",
            "81\n",
            "82\n",
            "83\n",
            "84\n",
            "85\n",
            "86\n",
            "87\n",
            "88\n",
            "89\n",
            "90\n",
            "91\n",
            "92\n",
            "93\n",
            "94\n",
            "95\n",
            "96\n",
            "97\n",
            "98\n",
            "99\n",
            "100\n",
            "101\n",
            "102\n",
            "103\n",
            "104\n",
            "105\n",
            "106\n",
            "107\n",
            "108\n",
            "109\n",
            "110\n",
            "111\n",
            "112\n",
            "113\n",
            "114\n",
            "115\n",
            "116\n",
            "117\n",
            "118\n",
            "119\n",
            "120\n",
            "121\n",
            "122\n",
            "123\n",
            "124\n",
            "125\n",
            "126\n",
            "127\n",
            "128\n",
            "129\n",
            "130\n",
            "131\n",
            "132\n",
            "133\n",
            "134\n",
            "135\n",
            "136\n",
            "137\n",
            "138\n",
            "139\n",
            "140\n",
            "141\n",
            "142\n",
            "143\n",
            "144\n",
            "145\n",
            "146\n",
            "147\n",
            "148\n",
            "149\n",
            "150\n",
            "151\n",
            "152\n",
            "153\n",
            "154\n",
            "155\n",
            "156\n",
            "157\n",
            "158\n",
            "159\n",
            "160\n",
            "161\n",
            "162\n",
            "163\n",
            "164\n",
            "165\n",
            "166\n",
            "167\n",
            "168\n",
            "169\n",
            "170\n",
            "171\n",
            "172\n",
            "173\n",
            "174\n",
            "175\n",
            "176\n",
            "177\n",
            "178\n",
            "179\n",
            "180\n",
            "181\n",
            "182\n",
            "183\n",
            "184\n",
            "0\n",
            "1\n",
            "2\n",
            "3\n",
            "4\n",
            "5\n",
            "6\n",
            "7\n",
            "8\n",
            "9\n",
            "10\n",
            "11\n",
            "12\n",
            "13\n",
            "14\n",
            "15\n",
            "16\n",
            "17\n",
            "18\n",
            "19\n",
            "20\n",
            "21\n",
            "22\n",
            "23\n",
            "24\n",
            "25\n",
            "26\n",
            "27\n",
            "28\n",
            "29\n",
            "30\n",
            "31\n",
            "32\n",
            "33\n",
            "34\n",
            "35\n",
            "36\n",
            "37\n",
            "38\n",
            "39\n",
            "40\n",
            "41\n",
            "42\n",
            "43\n",
            "44\n",
            "45\n",
            "46\n",
            "47\n",
            "48\n",
            "49\n",
            "50\n",
            "51\n",
            "52\n",
            "53\n",
            "54\n",
            "55\n",
            "56\n",
            "57\n",
            "58\n",
            "59\n",
            "60\n",
            "61\n",
            "62\n",
            "63\n",
            "64\n",
            "65\n",
            "66\n",
            "67\n",
            "68\n",
            "69\n",
            "70\n",
            "71\n",
            "72\n",
            "73\n",
            "74\n",
            "75\n",
            "76\n",
            "77\n",
            "78\n",
            "79\n",
            "80\n",
            "81\n",
            "82\n",
            "83\n",
            "84\n",
            "85\n",
            "86\n",
            "87\n",
            "88\n",
            "89\n",
            "90\n",
            "91\n",
            "92\n",
            "93\n",
            "94\n",
            "95\n",
            "96\n",
            "97\n",
            "98\n",
            "99\n",
            "100\n",
            "101\n",
            "102\n",
            "103\n",
            "104\n",
            "105\n",
            "106\n",
            "107\n",
            "108\n",
            "109\n",
            "110\n",
            "111\n",
            "112\n",
            "113\n",
            "114\n",
            "115\n",
            "116\n",
            "117\n",
            "118\n",
            "119\n",
            "120\n",
            "121\n",
            "122\n",
            "123\n",
            "124\n",
            "125\n",
            "126\n",
            "127\n",
            "128\n",
            "129\n",
            "130\n",
            "131\n",
            "132\n",
            "133\n",
            "134\n",
            "135\n",
            "136\n",
            "137\n",
            "138\n",
            "139\n",
            "140\n",
            "141\n",
            "142\n",
            "143\n",
            "144\n",
            "145\n",
            "146\n",
            "147\n",
            "148\n",
            "149\n",
            "150\n",
            "151\n",
            "152\n",
            "153\n",
            "154\n",
            "155\n",
            "156\n",
            "157\n",
            "158\n",
            "159\n",
            "160\n",
            "161\n",
            "162\n",
            "163\n",
            "164\n",
            "165\n",
            "166\n",
            "167\n",
            "168\n",
            "169\n",
            "170\n",
            "171\n",
            "172\n",
            "173\n",
            "174\n",
            "175\n",
            "176\n",
            "177\n",
            "178\n",
            "179\n",
            "0\n",
            "1\n",
            "2\n",
            "3\n",
            "4\n",
            "5\n",
            "6\n",
            "7\n",
            "8\n",
            "9\n",
            "10\n",
            "11\n",
            "12\n",
            "13\n",
            "14\n",
            "15\n",
            "16\n",
            "17\n",
            "18\n",
            "19\n",
            "20\n",
            "21\n",
            "22\n",
            "23\n",
            "24\n",
            "25\n",
            "26\n",
            "27\n",
            "28\n",
            "29\n",
            "30\n",
            "31\n",
            "32\n",
            "33\n",
            "34\n",
            "35\n",
            "36\n",
            "37\n",
            "38\n",
            "39\n",
            "40\n",
            "41\n",
            "42\n",
            "43\n",
            "44\n",
            "45\n",
            "46\n",
            "47\n",
            "48\n",
            "49\n",
            "50\n",
            "51\n",
            "52\n",
            "53\n",
            "54\n",
            "55\n",
            "56\n",
            "57\n",
            "58\n",
            "59\n",
            "60\n",
            "61\n",
            "62\n",
            "63\n",
            "64\n",
            "65\n",
            "66\n",
            "67\n",
            "68\n",
            "69\n",
            "70\n",
            "71\n",
            "72\n",
            "73\n",
            "74\n",
            "75\n",
            "76\n",
            "77\n",
            "78\n",
            "79\n",
            "80\n",
            "81\n",
            "82\n",
            "83\n",
            "84\n",
            "85\n",
            "86\n",
            "87\n",
            "88\n",
            "89\n",
            "90\n",
            "91\n",
            "92\n",
            "93\n",
            "94\n",
            "95\n",
            "96\n",
            "97\n",
            "98\n",
            "99\n",
            "100\n",
            "101\n",
            "102\n",
            "103\n",
            "104\n",
            "105\n",
            "106\n",
            "107\n",
            "108\n",
            "109\n",
            "110\n",
            "111\n",
            "112\n",
            "113\n",
            "114\n",
            "115\n",
            "116\n",
            "117\n",
            "118\n",
            "119\n",
            "120\n",
            "121\n",
            "122\n",
            "123\n",
            "124\n",
            "125\n",
            "126\n",
            "127\n",
            "128\n",
            "129\n",
            "130\n",
            "131\n",
            "132\n",
            "133\n",
            "134\n",
            "135\n",
            "136\n",
            "137\n",
            "138\n",
            "139\n",
            "140\n",
            "141\n",
            "142\n"
          ]
        }
      ],
      "source": [
        "# positives = tf.data.Dataset.zip((pos, tf.data.Dataset.from_tensor_slices(tf.one_hot(indices=[0]*len(pos),depth=2,on_value=1.0,off_value=0,axis=-1,dtype=tf.float32))))\n",
        "# negatives = tf.data.Dataset.zip((neg, tf.data.Dataset.from_tensor_slices(tf.one_hot(indices=[1]*len(neg),depth=2,on_value=1.0,off_value=0,axis=-1,dtype=tf.float32))))\n",
        "# # positives = tf.data.Dataset.zip((pos, tf.data.Dataset.from_tensor_slices(tf.ones(len(pos)))))\n",
        "# # negatives = tf.data.Dataset.zip((neg, tf.data.Dataset.from_tensor_slices(tf.zeros(len(neg)))))\n",
        "# data = positives.concatenate(negatives)\n",
        "\n",
        "import numpy as np\n",
        "data_numpy = []\n",
        "for i in data:\n",
        "  data_numpy.append([i[0].numpy(), i[1].numpy()])\n",
        "\n",
        "data_numpy_processed_X = []\n",
        "data_numpy_processed_y = []\n",
        "\n",
        "for i in data_numpy:\n",
        "  spectrogram, label = preprocess(i[0],i[1])\n",
        "  data_numpy_processed_X.append(spectrogram.numpy())\n",
        "  data_numpy_processed_y.append(label)\n",
        "\n",
        "  # spectrogram\n",
        "print(len(data_numpy_processed_X))\n",
        "\n",
        "# data = data.map(preprocess)\n",
        "# data_numpy = [[]]\n",
        "# # for i in data.take(1):\n",
        "# #   # print(i[0].numpy())\n",
        "# #   print(i[1].numpy())\n",
        "\n",
        "# # 問題のところ、データセットの次元を変えたい。（flattenしたい）\n",
        "# # data = data.flat_map(tf.data.Dataset.from_tensor_slices)\n",
        "# data = data.cache()\n",
        "# data = data.shuffle(buffer_size=1000)\n",
        "# data = data.batch(16)\n",
        "# data = data.prefetch(8)\n",
        "# print(len(data))\n"
      ]
    },
    {
      "cell_type": "markdown",
      "metadata": {
        "id": "L8KzLz0OHTQT"
      },
      "source": [
        "## 6.2 Split into Training and Testing Partitions"
      ]
    },
    {
      "cell_type": "code",
      "execution_count": null,
      "metadata": {
        "id": "IZQJy_TnHTQT"
      },
      "outputs": [],
      "source": [
        "# train = data.take(36)\n",
        "# test = data.skip(36).take(15)\n",
        "from sklearn.model_selection import train_test_split\n",
        "# train_X, test_X, train_y, test_y = train_test_split(data_numpy_processed_X, data_numpy_processed_y, test_size=0.2)\n",
        "# train_X = np.array(train_X)\n",
        "# train_y = np.array(train_y)\n",
        "# test_X = np.array(test_X)\n",
        "# test_y = np.array(test_y)\n",
        "\n",
        "\n",
        "data_numpy_processed_X = np.array(data_numpy_processed_X)\n",
        "print(data_numpy_processed_X.shape)\n",
        "\n",
        "train_X = np.array(data_numpy_processed_X)\n",
        "train_y = np.array(data_numpy_processed_y)\n",
        "\n",
        "# shuffle\n",
        "print(train_X.shape)\n",
        "indices = np.arange(train_X.shape[0])\n",
        "np.random.shuffle(indices)\n",
        "train_X = train_X[indices]\n",
        "train_y = train_y[indices]\n",
        "\n",
        "print(train_X.shape)\n",
        "print(train_y.shape)\n",
        "print(train_X.shape[1])"
      ]
    },
    {
      "cell_type": "markdown",
      "metadata": {
        "id": "THHFePBRHTQT"
      },
      "source": [
        "## 6.3 Test One Batch"
      ]
    },
    {
      "cell_type": "markdown",
      "metadata": {
        "id": "lF-k_lhAHTQT"
      },
      "source": [
        "# 7. Build Deep Learning Model"
      ]
    },
    {
      "cell_type": "markdown",
      "metadata": {
        "id": "JZK608QqHTQT"
      },
      "source": [
        "## 7.1 Load Tensorflow Dependencies"
      ]
    },
    {
      "cell_type": "code",
      "execution_count": null,
      "metadata": {
        "id": "zPqjqq2LHTQT"
      },
      "outputs": [],
      "source": [
        "from tensorflow.keras.models import Sequential\n",
        "from tensorflow.keras.layers import Conv2D, Dense, Flatten"
      ]
    },
    {
      "cell_type": "markdown",
      "metadata": {
        "id": "8JeYLWrbHTQT"
      },
      "source": [
        "## 7.2 Build Sequential Model, Compile and View Summary"
      ]
    },
    {
      "cell_type": "code",
      "execution_count": null,
      "metadata": {
        "id": "KdvzPyu-HTQT"
      },
      "outputs": [],
      "source": [
        "model = Sequential()\n",
        "model.add(Conv2D(16, (3,3), activation='relu', input_shape=(train_X.shape[1], 257,1)))\n",
        "model.add(Conv2D(16, (3,3), activation='relu'))\n",
        "model.add(Flatten())\n",
        "model.add(Dense(32, activation='relu'))\n",
        "model.add(Dense(13, activation='softmax'))"
      ]
    },
    {
      "cell_type": "code",
      "execution_count": null,
      "metadata": {
        "id": "e_PXekmJHTQT"
      },
      "outputs": [],
      "source": [
        "model.compile('Adam', loss='categorical_crossentropy', metrics=[\"accuracy\"])"
      ]
    },
    {
      "cell_type": "code",
      "execution_count": null,
      "metadata": {
        "id": "yuStx59WHTQU"
      },
      "outputs": [],
      "source": [
        "model.summary()"
      ]
    },
    {
      "cell_type": "markdown",
      "metadata": {
        "id": "syNKEmYuHTQU"
      },
      "source": [
        "## 7.3 Fit Model, View Loss and KPI Plots"
      ]
    },
    {
      "cell_type": "code",
      "execution_count": null,
      "metadata": {
        "id": "K-aSyqVmHTQU",
        "colab": {
          "base_uri": "https://localhost:8080/"
        },
        "outputId": "896513a0-e8f2-4c28-c45f-aec49c695e2a"
      },
      "outputs": [
        {
          "output_type": "stream",
          "name": "stdout",
          "text": [
            "Epoch 1/6\n",
            "32/32 [==============================] - 4s 90ms/step - loss: 2.6033 - accuracy: 0.1173 - val_loss: 2.4354 - val_accuracy: 0.1964\n",
            "Epoch 2/6\n",
            "32/32 [==============================] - 3s 81ms/step - loss: 2.2955 - accuracy: 0.2310 - val_loss: 2.3635 - val_accuracy: 0.2000\n",
            "Epoch 3/6\n",
            "32/32 [==============================] - 2s 76ms/step - loss: 1.8722 - accuracy: 0.4145 - val_loss: 1.8215 - val_accuracy: 0.4536\n",
            "Epoch 4/6\n",
            "32/32 [==============================] - 3s 83ms/step - loss: 1.2865 - accuracy: 0.6168 - val_loss: 1.3372 - val_accuracy: 0.5643\n",
            "Epoch 5/6\n",
            "32/32 [==============================] - 3s 82ms/step - loss: 0.7710 - accuracy: 0.7869 - val_loss: 1.9618 - val_accuracy: 0.4250\n",
            "Epoch 6/6\n",
            "32/32 [==============================] - 3s 82ms/step - loss: 0.7436 - accuracy: 0.7717 - val_loss: 0.9861 - val_accuracy: 0.7071\n"
          ]
        }
      ],
      "source": [
        "hist = model.fit(train_X, train_y, epochs=6, validation_split=0.2, batch_size = 36)   "
      ]
    },
    {
      "cell_type": "code",
      "source": [
        "print(type(hist))\n",
        "print(hist.history.keys())"
      ],
      "metadata": {
        "colab": {
          "base_uri": "https://localhost:8080/"
        },
        "id": "eVFXqNeulRoB",
        "outputId": "f06581a8-b2d5-46b8-a04b-2a8e4d35a0f4"
      },
      "execution_count": null,
      "outputs": [
        {
          "output_type": "stream",
          "name": "stdout",
          "text": [
            "<class 'keras.callbacks.History'>\n",
            "dict_keys(['loss', 'accuracy', 'val_loss', 'val_accuracy'])\n"
          ]
        }
      ]
    },
    {
      "cell_type": "code",
      "execution_count": null,
      "metadata": {
        "id": "KMRPKelbHTQU",
        "colab": {
          "base_uri": "https://localhost:8080/",
          "height": 281
        },
        "outputId": "7d27f313-6271-488e-ece6-8cd4ac1ca3ef"
      },
      "outputs": [
        {
          "output_type": "display_data",
          "data": {
            "text/plain": [
              "<Figure size 432x288 with 1 Axes>"
            ],
            "image/png": "[encoded data removed]"
          },
          "metadata": {
            "needs_background": "light"
          }
        }
      ],
      "source": [
        "plt.title('Loss')\n",
        "plt.plot(hist.history['loss'], 'r',label=\"train\")\n",
        "plt.plot(hist.history['val_loss'], 'b', label=\"test\")\n",
        "plt.legend()\n",
        "plt.show()"
      ]
    },
    {
      "cell_type": "code",
      "execution_count": null,
      "metadata": {
        "id": "Yxwwz4vHHTQU",
        "colab": {
          "base_uri": "https://localhost:8080/",
          "height": 281
        },
        "outputId": "6b35f54b-d239-48bb-fde4-58671260119f"
      },
      "outputs": [
        {
          "output_type": "display_data",
          "data": {
            "text/plain": [
              "<Figure size 432x288 with 1 Axes>"
            ],
            "image/png": "[encoded data removed]"
          },
          "metadata": {
            "needs_background": "light"
          }
        }
      ],
      "source": [
        "plt.title('accuracy')\n",
        "plt.plot(hist.history['accuracy'], 'r', label=\"train\")\n",
        "plt.plot(hist.history['val_accuracy'], 'b', label=\"validation\")\n",
        "plt.legend()\n",
        "plt.ylim([0.5,1])\n",
        "plt.show()\n",
        "\n",
        "# result1 = model.predict(test_X)\n",
        "# print(result1.shape)\n",
        "# sum = 0\n",
        "# for i in range(len(result1)):\n",
        "#   if np.argmax(result1[i]) == np.argmax(test_y[i]):\n",
        "#     sum += 1\n",
        "# print(sum / len(test_y))"
      ]
    },
    {
      "cell_type": "markdown",
      "source": [
        "# **８.音声断片に対して分類を行う、\n",
        "# ！！！森田さんこっちにテストのデータセットを生成してください**"
      ],
      "metadata": {
        "id": "brtWw8RAnhrC"
      }
    },
    {
      "cell_type": "code",
      "source": [
        "#森田\n",
        "import os\n",
        "\n",
        "t01 = []\n",
        "t02 = []\n",
        "t03 = []\n",
        "t04 = []\n",
        "t05 = []\n",
        "t06 = []\n",
        "t07 = []\n",
        "t08 = []\n",
        "t09 = []\n",
        "t10 = []\n",
        "t11 = []\n",
        "t12 = []\n",
        "t13 = []\n",
        "\n",
        "ts = [t01, t02, t03, t04, t05, t06, t07, t08, t09, t10, t11, t12, t13]\n",
        "\n",
        "for n in range(13):\n",
        "    \n",
        "  for i in os.listdir(SS[n]):\n",
        "    # CALCULATE NUM\n",
        "    wav = load_wav_16k_mono(SS[n] + '/' + i)\n",
        "    # wav = wav[int(len(wav) * 0.7):]\n",
        "    \n",
        "    NUM = int(len(wav)*0.3 / (10 * 16000))\n",
        "\n",
        "    for j in range(NUM):\n",
        "      ts[n].append(os.path.join(SS[n],i+str(j)))\n",
        "\n",
        "\n",
        "  ts[n] = tf.data.Dataset.from_tensor_slices(ts[n])\n"
      ],
      "metadata": {
        "id": "a7gNnPD62gbz"
      },
      "execution_count": null,
      "outputs": []
    },
    {
      "cell_type": "code",
      "source": [
        "#森田\n",
        "# data = tf.data.Dataset()\n",
        "tis = []\n",
        "for i in range(13):\n",
        "\n",
        "  indices = i\n",
        "  depth = 13    \n",
        "\n",
        "  tis.append( tf.data.Dataset.zip((ts[i], tf.data.Dataset.from_tensor_slices(([tf.one_hot(indices, depth)]*len(ts[i]))))) )\n",
        "\n",
        "for i in range(len(tis)-1):\n",
        "  tis[0] = tis[0].concatenate(tis[i+1])\n",
        "data = tis[0]\n",
        "#positives = tf.data.Dataset.zip((pos, tf.data.Dataset.from_tensor_slices(tf.ones(len(pos)))))\n",
        "#negatives = tf.data.Dataset.zip((neg, tf.data.Dataset.from_tensor_slices(tf.zeros(len(neg)))))\n",
        "#data = positives.concatenate(negatives)\n",
        "\n",
        "print(len(data))\n",
        "\n",
        "print(data.as_numpy_iterator().next())"
      ],
      "metadata": {
        "colab": {
          "base_uri": "https://localhost:8080/"
        },
        "id": "RVGXNl7r2pJB",
        "outputId": "ae9fd76d-e514-45db-9b37-8c6e464579e1"
      },
      "execution_count": null,
      "outputs": [
        {
          "output_type": "stream",
          "name": "stdout",
          "text": [
            "390\n",
            "(b'/content/drive/MyDrive/audio_processing/intern/AFPID-II/AFPID-Raw/S01/S01_6_footstep_audio.wav0', array([1., 0., 0., 0., 0., 0., 0., 0., 0., 0., 0., 0., 0.], dtype=float32))\n"
          ]
        }
      ]
    },
    {
      "cell_type": "code",
      "source": [
        "def preprocess(file_path, label):\n",
        "    num = \"\"\n",
        "    for i in reversed(file_path):\n",
        "      if 48<=i<=57:\n",
        "        num = chr(i) + num\n",
        "      else:\n",
        "        break\n",
        "    wav = load_wav_16k_mono(file_path[:-len(num)])\n",
        "\n",
        "    num = int(num)\n",
        "    print(num)\n",
        "      \n",
        "    num = int(file_path[-1])\n",
        "\n",
        "    # wav = wav[:48000]\n",
        "    # zero_padding = tf.zeros([48000] - tf.shape(wav), dtype=tf.float32)\n",
        "    # wav = tf.concat([zero_padding, wav],0)\n",
        "\n",
        "    #### \n",
        "\n",
        "    wav_clip = wav[len(wav) * 0.7 12000*num:12000+12000*num]\n",
        "    spectrogram = tf.signal.stft(wav_clip, frame_length=320, frame_step=32)\n",
        "    spectrogram = tf.abs(spectrogram)\n",
        "    spectrogram = tf.expand_dims(spectrogram, axis=2)\n",
        "    return spectrogram, label"
      ],
      "metadata": {
        "id": "Ljpw-5KucJtK"
      },
      "execution_count": null,
      "outputs": []
    },
    {
      "cell_type": "markdown",
      "metadata": {
        "id": "DqJmsNmEUSrT"
      },
      "source": [
        "# **モデルの導出**"
      ]
    },
    {
      "cell_type": "markdown",
      "source": [
        "# **予備**"
      ],
      "metadata": {
        "id": "015NRMQRnSJ6"
      }
    },
    {
      "cell_type": "markdown",
      "metadata": {
        "id": "HVSLqfhBHTQU"
      },
      "source": [
        "# 8. Make a Prediction on a Single Clip"
      ]
    },
    {
      "cell_type": "markdown",
      "metadata": {
        "id": "1bqnEyylHTQU"
      },
      "source": [
        "## 8.1 Get One Batch and Make a Prediction"
      ]
    },
    {
      "cell_type": "code",
      "execution_count": null,
      "metadata": {
        "id": "Q39H_61dHTQU"
      },
      "outputs": [],
      "source": [
        "X_test, y_test = test.as_numpy_iterator().next()"
      ]
    },
    {
      "cell_type": "code",
      "execution_count": null,
      "metadata": {
        "id": "jotI8dHfHTQU"
      },
      "outputs": [],
      "source": [
        "yhat = model.predict(X_test)"
      ]
    },
    {
      "cell_type": "markdown",
      "metadata": {
        "id": "-59oPHr8HTQU"
      },
      "source": [
        "## 8.2 Convert Logits to Classes "
      ]
    },
    {
      "cell_type": "code",
      "execution_count": null,
      "metadata": {
        "id": "epW7UCjpHTQU"
      },
      "outputs": [],
      "source": [
        "yhat = [1 if prediction > 0.99 else 0 for prediction in yhat]"
      ]
    },
    {
      "cell_type": "markdown",
      "metadata": {
        "id": "JWzfYZF_HTQV"
      },
      "source": [
        "# 9. Build Forest Parsing Functions"
      ]
    },
    {
      "cell_type": "markdown",
      "metadata": {
        "id": "5_tEXDdpHTQV"
      },
      "source": [
        "## 9.1 Load up MP3s"
      ]
    },
    {
      "cell_type": "code",
      "execution_count": null,
      "metadata": {
        "id": "efADRE0PHTQV"
      },
      "outputs": [],
      "source": [
        "def load_mp3_16k_mono(filename):\n",
        "    \"\"\" Load a WAV file, convert it to a float tensor, resample to 16 kHz single-channel audio. \"\"\"\n",
        "    res = tfio.audio.AudioIOTensor(filename)\n",
        "    # Convert to tensor and combine channels \n",
        "    tensor = res.to_tensor()\n",
        "    tensor = tf.math.reduce_sum(tensor, axis=1) / 2 \n",
        "    # Extract sample rate and cast\n",
        "    sample_rate = res.rate\n",
        "    sample_rate = tf.cast(sample_rate, dtype=tf.int64)\n",
        "    # Resample to 16 kHz\n",
        "    wav = tfio.audio.resample(tensor, rate_in=sample_rate, rate_out=16000)\n",
        "    return wav"
      ]
    },
    {
      "cell_type": "code",
      "execution_count": null,
      "metadata": {
        "id": "SKo4L2ByHTQV"
      },
      "outputs": [],
      "source": [
        "mp3 = os.path.join('/content/drive/MyDrive/audio_processing/audioClassification/data', 'Forest Recordings', 'recording_00.mp3')"
      ]
    },
    {
      "cell_type": "code",
      "execution_count": null,
      "metadata": {
        "id": "a0C12F5VHTQV"
      },
      "outputs": [],
      "source": [
        "wav = load_mp3_16k_mono(mp3)"
      ]
    },
    {
      "cell_type": "code",
      "execution_count": null,
      "metadata": {
        "id": "gILCTPBRHTQV"
      },
      "outputs": [],
      "source": [
        "audio_slices = tf.keras.utils.timeseries_dataset_from_array(wav, wav, sequence_length=48000, sequence_stride=48000, batch_size=1)"
      ]
    },
    {
      "cell_type": "code",
      "execution_count": null,
      "metadata": {
        "id": "nRWditjPHTQV"
      },
      "outputs": [],
      "source": [
        "samples, index = audio_slices.as_numpy_iterator().next()"
      ]
    },
    {
      "cell_type": "markdown",
      "metadata": {
        "id": "Woslc-gQHTQV"
      },
      "source": [
        "## 9.2 Build Function to Convert Clips into Windowed Spectrograms"
      ]
    },
    {
      "cell_type": "code",
      "execution_count": null,
      "metadata": {
        "id": "T3nUZbs9HTQV"
      },
      "outputs": [],
      "source": [
        "def preprocess_mp3(sample, index):\n",
        "    sample = sample[0]\n",
        "    zero_padding = tf.zeros([48000] - tf.shape(sample), dtype=tf.float32)\n",
        "    wav = tf.concat([zero_padding, sample],0)\n",
        "    spectrogram = tf.signal.stft(wav, frame_length=320, frame_step=32)\n",
        "    spectrogram = tf.abs(spectrogram)\n",
        "    spectrogram = tf.expand_dims(spectrogram, axis=2)\n",
        "    return spectrogram"
      ]
    },
    {
      "cell_type": "markdown",
      "metadata": {
        "id": "1QBPh4NwHTQV"
      },
      "source": [
        "## 9.3 Convert Longer Clips into Windows and Make Predictions"
      ]
    },
    {
      "cell_type": "code",
      "execution_count": null,
      "metadata": {
        "id": "Zg2K8Kz1HTQV"
      },
      "outputs": [],
      "source": [
        "audio_slices = tf.keras.utils.timeseries_dataset_from_array(wav, wav, sequence_length=16000, sequence_stride=16000, batch_size=1)\n",
        "audio_slices = audio_slices.map(preprocess_mp3)\n",
        "audio_slices = audio_slices.batch(64)"
      ]
    },
    {
      "cell_type": "code",
      "execution_count": null,
      "metadata": {
        "id": "_UuA-FuTHTQW"
      },
      "outputs": [],
      "source": [
        "yhat = model.predict(audio_slices)\n",
        "yhat = [1 if prediction > 0.5 else 0 for prediction in yhat]"
      ]
    },
    {
      "cell_type": "markdown",
      "metadata": {
        "id": "yyuLlMWJHTQW"
      },
      "source": [
        "## 9.4 Group Consecutive Detections"
      ]
    },
    {
      "cell_type": "code",
      "execution_count": null,
      "metadata": {
        "id": "o6veYtTEHTQW"
      },
      "outputs": [],
      "source": [
        "from itertools import groupby"
      ]
    },
    {
      "cell_type": "code",
      "execution_count": null,
      "metadata": {
        "id": "XAFl-4l7HTQW"
      },
      "outputs": [],
      "source": [
        "yhat = [key for key, group in groupby(yhat)]\n",
        "calls = tf.math.reduce_sum(yhat).numpy()"
      ]
    },
    {
      "cell_type": "code",
      "execution_count": null,
      "metadata": {
        "id": "0b5pqHi2HTQW"
      },
      "outputs": [],
      "source": [
        "calls"
      ]
    },
    {
      "cell_type": "markdown",
      "metadata": {
        "id": "E3bzXctMHTQW"
      },
      "source": [
        "# 10. Make Predictions"
      ]
    },
    {
      "cell_type": "markdown",
      "metadata": {
        "id": "tdDjAcuxHTQW"
      },
      "source": [
        "## 10.1 Loop over all recordings and make predictions"
      ]
    },
    {
      "cell_type": "code",
      "execution_count": null,
      "metadata": {
        "id": "cum92eDaHTQW"
      },
      "outputs": [],
      "source": [
        "results = {}\n",
        "for file in os.listdir(os.path.join('/content/drive/MyDrive/audio_processing/audioClassification/data', 'Forest Recordings')):\n",
        "    FILEPATH = os.path.join('/content/drive/MyDrive/audio_processing/audioClassification/data','Forest Recordings', file)\n",
        "    \n",
        "    wav = load_mp3_16k_mono(FILEPATH)\n",
        "    audio_slices = tf.keras.utils.timeseries_dataset_from_array(wav, wav, sequence_length=48000, sequence_stride=48000, batch_size=1)\n",
        "    audio_slices = audio_slices.map(preprocess_mp3)\n",
        "    audio_slices = audio_slices.batch(64)\n",
        "    \n",
        "    yhat = model.predict(audio_slices)\n",
        "    \n",
        "    results[file] = yhat"
      ]
    },
    {
      "cell_type": "code",
      "execution_count": null,
      "metadata": {
        "id": "3kYc3nghHTQW",
        "scrolled": true
      },
      "outputs": [],
      "source": [
        "results"
      ]
    },
    {
      "cell_type": "markdown",
      "metadata": {
        "id": "bYA4FZGVHTQW"
      },
      "source": [
        "## 10.2 Convert Predictions into Classes"
      ]
    },
    {
      "cell_type": "code",
      "execution_count": null,
      "metadata": {
        "id": "h7AHqAtFHTQW",
        "scrolled": true
      },
      "outputs": [],
      "source": [
        "class_preds = {}\n",
        "for file, logits in results.items():\n",
        "    class_preds[file] = [1 if prediction > 0.99 else 0 for prediction in logits]\n",
        "class_preds"
      ]
    },
    {
      "cell_type": "markdown",
      "metadata": {
        "id": "wnIzERuLHTQX"
      },
      "source": [
        "## 10.3 Group Consecutive Detections"
      ]
    },
    {
      "cell_type": "code",
      "execution_count": null,
      "metadata": {
        "id": "sIkR643cHTQX",
        "scrolled": true
      },
      "outputs": [],
      "source": [
        "postprocessed = {}\n",
        "for file, scores in class_preds.items():\n",
        "    postprocessed[file] = tf.math.reduce_sum([key for key, group in groupby(scores)]).numpy()\n",
        "postprocessed"
      ]
    },
    {
      "cell_type": "markdown",
      "metadata": {
        "id": "fVeVa3kUHTQX"
      },
      "source": [
        "# 11. Export Results"
      ]
    },
    {
      "cell_type": "code",
      "execution_count": null,
      "metadata": {
        "id": "DXzYfsAOHTQX"
      },
      "outputs": [],
      "source": [
        "import csv"
      ]
    },
    {
      "cell_type": "code",
      "execution_count": null,
      "metadata": {
        "id": "-5ODzjxDHTQX"
      },
      "outputs": [],
      "source": [
        "with open('results.csv', 'w', newline='') as f:\n",
        "    writer = csv.writer(f, delimiter=',')\n",
        "    writer.writerow(['recording', 'capuchin_calls'])\n",
        "    for key, value in postprocessed.items():\n",
        "        writer.writerow([key, value])"
      ]
    },
    {
      "cell_type": "code",
      "execution_count": null,
      "metadata": {
        "id": "ltkcMDEaeiJ-"
      },
      "outputs": [],
      "source": []
    },
    {
      "cell_type": "markdown",
      "metadata": {
        "id": "IpKTFOSLgN3Z"
      },
      "source": [
        "劉　問題コード\n"
      ]
    },
    {
      "cell_type": "code",
      "execution_count": null,
      "metadata": {
        "id": "Es2pXm4LgNlX"
      },
      "outputs": [],
      "source": []
    },
    {
      "cell_type": "markdown",
      "metadata": {
        "id": "Kx47HKxkgQ7t"
      },
      "source": [
        "## 5.1 Build Preprocessing Function"
      ]
    },
    {
      "cell_type": "code",
      "execution_count": null,
      "metadata": {
        "id": "nKTHntUbgQ7t"
      },
      "outputs": [],
      "source": [
        "def preprocess(file_path, label): \n",
        "    wav = load_wav_16k_mono(file_path)\n",
        "    wav = wav[:48000]\n",
        "    zero_padding = tf.zeros([48000] - tf.shape(wav), dtype=tf.float32)\n",
        "    wav = tf.concat([zero_padding, wav],0)\n",
        "    # audio_slices = \n",
        "    # audio_slices = tf.keras.utils.timeseries_dataset_from_array(wav, wav, sequence_length=11200, sequence_stride=11200, batch_size=1)\n",
        "    result_list = []\n",
        "    wav_list = [wav[12000*i:12000+12000*i] for i in range(4)]\n",
        "    for wav_single in wav_list:\n",
        "      spectrogram = tf.signal.stft(wav_single, frame_length=320, frame_step=32)\n",
        "      spectrogram = tf.abs(spectrogram)\n",
        "      spectrogram = tf.expand_dims(spectrogram, axis=2)\n",
        "      result_list.append([spectrogram, label])\n",
        "    return result_list"
      ]
    },
    {
      "cell_type": "markdown",
      "metadata": {
        "id": "3kFuZUvZgU4_"
      },
      "source": [
        "## 6.1 Create a Tensorflow Data Pipeline"
      ]
    },
    {
      "cell_type": "code",
      "execution_count": null,
      "metadata": {
        "id": "hEkotXPVgU5A"
      },
      "outputs": [],
      "source": [
        "data = data.map(preprocess)\n",
        "data = data.flat_map(tf.data.Dataset.from_tensor_slices)\n",
        "data = data.cache()\n",
        "data = data.shuffle(buffer_size=1000)\n",
        "data = data.batch(16)\n",
        "data = data.prefetch(8)\n",
        "print(len(data))\n"
      ]
    },
    {
      "cell_type": "code",
      "execution_count": null,
      "metadata": {
        "id": "x2xAvQSIoIkx"
      },
      "outputs": [],
      "source": [
        "\n"
      ]
    },
    {
      "cell_type": "code",
      "execution_count": null,
      "metadata": {
        "id": "LWBfXQ6uwesY"
      },
      "outputs": [],
      "source": []
    },
    {
      "cell_type": "code",
      "execution_count": null,
      "metadata": {
        "id": "iplbsjxwUXJ3"
      },
      "outputs": [],
      "source": [
        "import pickle\n",
        "def save_model(model):\n",
        "  # モデルの保存\n",
        "  filename = 'finalized_model.sav'\n",
        "  pickle.dump(model, open(filename, 'wb'))\n",
        "\n",
        "def load_model(filename):\n",
        "  # モデルを読み込み\n",
        "  loaded_model = pickle.load(open(filename, 'rb'))\n",
        "  return loaded_model"
      ]
    }
  ],
  "metadata": {
    "colab": {
      "provenance": [],
      "collapsed_sections": [
        "HVSLqfhBHTQU",
        "JWzfYZF_HTQV",
        "E3bzXctMHTQW",
        "fVeVa3kUHTQX"
      ],
      "include_colab_link": true
    },
    "kernelspec": {
      "display_name": "Python 3",
      "name": "python3"
    },
    "language_info": {
      "name": "python"
    },
    "accelerator": "GPU",
    "gpuClass": "standard"
  },
  "nbformat": 4,
  "nbformat_minor": 0
}